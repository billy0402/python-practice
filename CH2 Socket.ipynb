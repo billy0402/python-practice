{
 "cells": [
  {
   "cell_type": "markdown",
   "metadata": {},
   "source": [
    "### TCP socket"
   ]
  },
  {
   "cell_type": "code",
   "execution_count": null,
   "metadata": {},
   "outputs": [],
   "source": [
    "import socket\n",
    "import datetime\n",
    "\n",
    "HOST = '0.0.0.0'\n",
    "PORT = 1234\n",
    "\n",
    "# AF_INET >> 使用IPv4位址, SOCK_STREAM >> TCP\n",
    "server = socket.socket(socket.AF_INET, socket.SOCK_STREAM)\n",
    "server.bind((HOST, PORT)) # 綁定 IP & 通訊埠\n",
    "server.listen(1)                  # 監聽\n",
    "\n",
    "while True:\n",
    "    connect, address = server.accept() #接收 TCP 連接，並傳回新的 socket 物件\n",
    "    print('Client {} is connected!'.format(address))\n",
    "    \n",
    "    now_time = datetime.datetime.now()\n",
    "    message = 'Current time is {}.'.format(now_time)\n",
    "    connect.send(message.encode(encoding='utf_8', errors='strict'))\n",
    "    print('Send: {}'.format(message))\n",
    "    \n",
    "    connect.close() # 關閉連接"
   ]
  },
  {
   "cell_type": "code",
   "execution_count": null,
   "metadata": {},
   "outputs": [],
   "source": [
    "import socket\n",
    "\n",
    "HOST = '127.0.0.1'\n",
    "PORT = 1234\n",
    "\n",
    "# AF_INET >> 使用IPv4位址, SOCK_STREAM >> TCP\n",
    "client = socket.socket(socket.AF_INET, socket.SOCK_STREAM)\n",
    "\n",
    "client.connect((HOST, PORT))\n",
    "print('Connect {}:{} successful.'.format(HOST, PORT))\n",
    "data = client.recv(1024) # 接收資料，最大長度 1024\n",
    "print('Recieve: {}'.format(data))\n",
    "\n",
    "client.close() # 關閉連接"
   ]
  },
  {
   "cell_type": "markdown",
   "metadata": {},
   "source": [
    "### UDP socket"
   ]
  },
  {
   "cell_type": "code",
   "execution_count": null,
   "metadata": {},
   "outputs": [],
   "source": [
    "import socket\n",
    "\n",
    "HOST = '0.0.0.0'\n",
    "PORT = 1234\n",
    "\n",
    "# AF_INET >> 使用IPv4位址, SOCK_DGRAM >> UDP\n",
    "server = socket.socket(socket.AF_INET, socket.SOCK_DGRAM)\n",
    "server.bind((HOST, PORT)) # 綁定 IP & 通訊埠\n",
    "\n",
    "while True:\n",
    "    data, address = server.recvfrom(1024) # 接收資料，最大長度 1024\n",
    "    print('Recieve: {} from {}.'.format(data, address))\n",
    "\n",
    "connect.close() # 關閉連接"
   ]
  },
  {
   "cell_type": "code",
   "execution_count": null,
   "metadata": {},
   "outputs": [],
   "source": [
    "import socket\n",
    "\n",
    "HOST = '127.0.0.1'\n",
    "PORT = 1234\n",
    "\n",
    "# AF_INET >> 使用IPv4位址, SOCK_DGRAM >> UDP\n",
    "client = socket.socket(socket.AF_INET, socket.SOCK_DGRAM)\n",
    "\n",
    "data = 'Hello UDP!'\n",
    "client.sendto(data, (HOST, PORT))\n",
    "print('Send: {} to {}:{}.'.format(data.encode(encoding='utf_8', errors='strict'), HOST, PORT))\n",
    "\n",
    "client.close() # 關閉連接"
   ]
  }
 ],
 "metadata": {
  "kernelspec": {
   "display_name": "Python 3",
   "language": "python",
   "name": "python3"
  },
  "language_info": {
   "codemirror_mode": {
    "name": "ipython",
    "version": 3
   },
   "file_extension": ".py",
   "mimetype": "text/x-python",
   "name": "python",
   "nbconvert_exporter": "python",
   "pygments_lexer": "ipython3",
   "version": "3.7.4"
  }
 },
 "nbformat": 4,
 "nbformat_minor": 2
}
