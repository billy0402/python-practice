{
 "cells": [
  {
   "cell_type": "markdown",
   "metadata": {},
   "source": [
    "### 進制轉換"
   ]
  },
  {
   "cell_type": "code",
   "execution_count": 1,
   "metadata": {},
   "outputs": [
    {
     "name": "stdout",
     "output_type": "stream",
     "text": [
      "請輸入數字: 100\n",
      "0o144\n",
      "144\n"
     ]
    }
   ],
   "source": [
    "decimal = 8\n",
    "result = ''\n",
    "user_input = input('請輸入數字: ')\n",
    "num = int(user_input)\n",
    "print(oct(num))\n",
    "\n",
    "while num > decimal:\n",
    "    result += str(num % decimal)\n",
    "    num //= decimal\n",
    "result += str(num)\n",
    "print(result[::-1])"
   ]
  },
  {
   "cell_type": "markdown",
   "metadata": {},
   "source": [
    "### 求婚(閏年)\n",
    "- 西元年被4整除且不被100整除，或被400整除者即為閏年"
   ]
  },
  {
   "cell_type": "code",
   "execution_count": 2,
   "metadata": {},
   "outputs": [
    {
     "name": "stdout",
     "output_type": "stream",
     "text": [
      "請輸入年份: 2000\n",
      "True\n",
      "2000是閏年\n"
     ]
    }
   ],
   "source": [
    "import calendar\n",
    "user_input = input('請輸入年份: ')\n",
    "year = int(user_input)\n",
    "print(calendar.isleap(year))\n",
    "\n",
    "if (year % 4 == 0 and year % 100 != 0) or year % 400 == 0:\n",
    "    print('{}是閏年'.format(year))\n",
    "else:\n",
    "    print('{}不是閏年'.format(year))"
   ]
  },
  {
   "cell_type": "markdown",
   "metadata": {},
   "source": [
    "### 費氏數列"
   ]
  },
  {
   "cell_type": "code",
   "execution_count": 3,
   "metadata": {},
   "outputs": [
    {
     "name": "stdout",
     "output_type": "stream",
     "text": [
      "請輸入數字: 10\n",
      "fib(10) = 55\n"
     ]
    }
   ],
   "source": [
    "def fib(num):\n",
    "    fib_list = [1, 1]\n",
    "\n",
    "    for i in range(num - 2):\n",
    "        fib_list.append(fib_list[-2] + fib_list[-1])\n",
    "\n",
    "    print('fib({}) = {}'.format(num, fib_list[num - 1]))\n",
    "\n",
    "\n",
    "user_input = input('請輸入數字: ')\n",
    "num = int(user_input)\n",
    "fib(num)"
   ]
  },
  {
   "cell_type": "markdown",
   "metadata": {},
   "source": [
    "### 字串輸入\n",
    "- in: a, out: a + b"
   ]
  },
  {
   "cell_type": "code",
   "execution_count": 4,
   "metadata": {
    "scrolled": true
   },
   "outputs": [
    {
     "name": "stdout",
     "output_type": "stream",
     "text": [
      "請輸入文字: a\n",
      "a + b\n"
     ]
    }
   ],
   "source": [
    "user_input = input('請輸入文字: ')\n",
    "print(user_input, '+ b')"
   ]
  },
  {
   "cell_type": "markdown",
   "metadata": {},
   "source": [
    "### 兩數乘法"
   ]
  },
  {
   "cell_type": "code",
   "execution_count": 5,
   "metadata": {},
   "outputs": [
    {
     "name": "stdout",
     "output_type": "stream",
     "text": [
      "請輸入數字1: 8\n",
      "請輸入數字2: 8\n",
      "8 x 8 = 64\n"
     ]
    }
   ],
   "source": [
    "num_1 = input('請輸入數字1: ')\n",
    "num_2 = input('請輸入數字2: ')\n",
    "answer = int(num_1) * int(num_2)\n",
    "print('{} x {} = {}'.format(num_1, num_2, answer))"
   ]
  },
  {
   "cell_type": "markdown",
   "metadata": {},
   "source": [
    "### 迴文"
   ]
  },
  {
   "cell_type": "code",
   "execution_count": 6,
   "metadata": {},
   "outputs": [
    {
     "name": "stdout",
     "output_type": "stream",
     "text": [
      "請輸入文字: aabbaa\n",
      "是迴文\n"
     ]
    }
   ],
   "source": [
    "user_input = input('請輸入文字: ')\n",
    "reverse_input = user_input[::-1]\n",
    "\n",
    "if user_input == reverse_input:\n",
    "    print('是迴文')\n",
    "else:\n",
    "    print('不是迴文')"
   ]
  },
  {
   "cell_type": "markdown",
   "metadata": {},
   "source": [
    "### 成績"
   ]
  },
  {
   "cell_type": "code",
   "execution_count": 7,
   "metadata": {},
   "outputs": [
    {
     "name": "stdout",
     "output_type": "stream",
     "text": [
      "請輸入成績: 87\n",
      "乙等\n"
     ]
    }
   ],
   "source": [
    "user_input = input('請輸入成績: ')\n",
    "score = int(user_input)\n",
    "\n",
    "if score >= 90:\n",
    "    print('甲等')\n",
    "elif score >= 80:\n",
    "    print('乙等')\n",
    "elif score < 60:\n",
    "    print('不及格')"
   ]
  },
  {
   "cell_type": "markdown",
   "metadata": {},
   "source": [
    "### 數字 or 運算"
   ]
  },
  {
   "cell_type": "code",
   "execution_count": 8,
   "metadata": {},
   "outputs": [
    {
     "name": "stdout",
     "output_type": "stream",
     "text": [
      "請輸入數字1: 1\n",
      "請輸入數字2: 2\n",
      "3\n"
     ]
    }
   ],
   "source": [
    "num_1 = input('請輸入數字1: ')\n",
    "num_2 = input('請輸入數字2: ')\n",
    "num_1 = int(num_1)\n",
    "num_2 = int(num_2)\n",
    "\n",
    "print(num_1 | num_2)"
   ]
  },
  {
   "cell_type": "markdown",
   "metadata": {},
   "source": [
    "### 加分題"
   ]
  },
  {
   "cell_type": "code",
   "execution_count": 9,
   "metadata": {},
   "outputs": [
    {
     "name": "stdout",
     "output_type": "stream",
     "text": [
      "請輸入數字: 15\n",
      "fib_list: [1, 1, 2, 3, 5, 8, 13, 21, 34, 55, 89, 144, 233, 377, 610]\n",
      "square_list: [1, 4, 9, 16, 25, 36, 49, 64, 81, 100, 121, 144, 169, 196, 225]\n",
      "[1, 12]\n"
     ]
    }
   ],
   "source": [
    "def fib(num):\n",
    "    fib_list = [1, 1]\n",
    "\n",
    "    for i in range(num - 2):\n",
    "        fib_list.append(fib_list[-2] + fib_list[-1])\n",
    "\n",
    "    print('fib_list: {}'.format(fib_list))\n",
    "    return fib_list\n",
    "    \n",
    "def square(num):\n",
    "    square_list = []\n",
    "    \n",
    "    for i in range(num):\n",
    "        square_list.append((i + 1) ** 2)\n",
    "        \n",
    "    print('square_list: {}'.format(square_list))\n",
    "    return square_list\n",
    "\n",
    "user_input = input('請輸入數字: ')\n",
    "num = int(user_input)\n",
    "\n",
    "result_list = []\n",
    "fib_list = fib(num)\n",
    "square_list = square(num)\n",
    "\n",
    "for i in range(num):\n",
    "    if fib_list[i] == square_list[i]:\n",
    "        result_list.append(i + 1)\n",
    "        \n",
    "print(result_list)"
   ]
  }
 ],
 "metadata": {
  "kernelspec": {
   "display_name": "Python 3",
   "language": "python",
   "name": "python3"
  },
  "language_info": {
   "codemirror_mode": {
    "name": "ipython",
    "version": 3
   },
   "file_extension": ".py",
   "mimetype": "text/x-python",
   "name": "python",
   "nbconvert_exporter": "python",
   "pygments_lexer": "ipython3",
   "version": "3.7.4"
  }
 },
 "nbformat": 4,
 "nbformat_minor": 2
}
