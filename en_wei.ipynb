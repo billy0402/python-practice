{
 "cells": [
  {
   "cell_type": "markdown",
   "metadata": {},
   "source": [
    "### Check Subnet"
   ]
  },
  {
   "cell_type": "code",
   "execution_count": 1,
   "metadata": {},
   "outputs": [
    {
     "name": "stdout",
     "output_type": "stream",
     "text": [
      "請輸入第一個IP: a.b.c.d\n",
      "非合法IP\n",
      "請輸入第一個IP: 1.2.3.4\n",
      "請輸入第二個IP: 1.2.3.4\n",
      "請輸入子遮罩: 255.255.255.255\n",
      "相同網段\n"
     ]
    }
   ],
   "source": [
    "def check_input(hint):\n",
    "    while True:\n",
    "        try:\n",
    "            user_input = input(hint)\n",
    "            user_input_list = user_input.split('.')\n",
    "            if len(user_input_list) == 4:\n",
    "                user_input_list = [int(i) for i in user_input_list]\n",
    "                return user_input_list\n",
    "        except ValueError:\n",
    "            print('非合法IP')\n",
    "\n",
    "\n",
    "def get_check_ip(ip_list, subnet_mask_list):\n",
    "    result_list = list()\n",
    "    for ip, subnet_mask in zip(ip_list, subnet_mask_list):\n",
    "        result = ip & subnet_mask\n",
    "        result_list.append(result)\n",
    "\n",
    "    return '.'.join(str(number) for number in result_list)\n",
    "\n",
    "\n",
    "# my_ip_list = [172, 20, 10, 2]\n",
    "# check_ip_list = [172, 20, 10, 0]\n",
    "# subnet_mask_list = [255, 255, 240, 0]\n",
    "\n",
    "my_ip_list = check_input('請輸入第一個IP: ')\n",
    "check_ip_list = check_input('請輸入第二個IP: ')\n",
    "subnet_mask_list = check_input('請輸入子遮罩: ')\n",
    "\n",
    "my_ip_result = get_check_ip(my_ip_list, subnet_mask_list)\n",
    "check_ip_result = get_check_ip(check_ip_list, subnet_mask_list)\n",
    "\n",
    "print('相同網段' if my_ip_result == check_ip_result else '不相同網段')"
   ]
  },
  {
   "cell_type": "markdown",
   "metadata": {},
   "source": [
    "### Decimal"
   ]
  },
  {
   "cell_type": "code",
   "execution_count": 2,
   "metadata": {},
   "outputs": [
    {
     "name": "stdout",
     "output_type": "stream",
     "text": [
      "{0: '0', 1: '1', 2: '2', 3: '3', 4: '4', 5: '5', 6: '6', 7: '7', 8: '8', 9: '9', 10: 'A', 11: 'B', 12: 'C', 13: 'D', 14: 'E', 15: 'F', 16: 'G', 17: 'H', 18: 'I', 19: 'J', 20: 'K', 21: 'L', 22: 'M', 23: 'N', 24: 'O', 25: 'P', 26: 'Q', 27: 'R', 28: 'S', 29: 'T', 30: 'U', 31: 'V', 32: 'W', 33: 'X', 34: 'Y', 35: 'Z'}\n",
      "請輸入進制: 8\n",
      "請輸入數字: 100\n",
      "0o144\n",
      "144\n"
     ]
    }
   ],
   "source": [
    "def check_int(hint):\n",
    "    while True:\n",
    "        try:\n",
    "            user_input = input(hint)\n",
    "            return int(user_input)\n",
    "        except ValueError:\n",
    "            print('內含非數字')\n",
    "\n",
    "\n",
    "hex_dict = {}\n",
    "for i in range(0, 10):\n",
    "    hex_dict[i] = str(i)\n",
    "for i in range(65, 65 + 26):\n",
    "    hex_dict[i - 55] = chr(i)\n",
    "\n",
    "print(hex_dict)\n",
    "\n",
    "decimal = check_int('請輸入進制: ')\n",
    "user_input = check_int('請輸入數字: ')\n",
    "num = user_input\n",
    "result = ''\n",
    "\n",
    "while num >= decimal:\n",
    "    result += hex_dict[num % decimal]\n",
    "    num //= decimal\n",
    "result += str(num)\n",
    "\n",
    "if decimal == 2:\n",
    "    print(bin(user_input))\n",
    "elif decimal == 8:\n",
    "    print(oct(user_input))\n",
    "elif decimal == 16:\n",
    "    print(hex(user_input))\n",
    "\n",
    "print(result[::-1])"
   ]
  },
  {
   "cell_type": "code",
   "execution_count": 3,
   "metadata": {},
   "outputs": [],
   "source": [
    "def check_int(hint):\n",
    "    while True:\n",
    "        try:\n",
    "            user_input = int(input(hint))\n",
    "\n",
    "            if user_input > 0:\n",
    "                return user_input\n",
    "        except ValueError:\n",
    "            print('內含非數字')"
   ]
  },
  {
   "cell_type": "markdown",
   "metadata": {},
   "source": [
    "### suqare"
   ]
  },
  {
   "cell_type": "code",
   "execution_count": 4,
   "metadata": {},
   "outputs": [
    {
     "name": "stdout",
     "output_type": "stream",
     "text": [
      "請輸入正整數: 5\n"
     ]
    },
    {
     "data": {
      "text/plain": [
       "25"
      ]
     },
     "execution_count": 4,
     "metadata": {},
     "output_type": "execute_result"
    }
   ],
   "source": [
    "# def suqare(n):\n",
    "#     return n ** 2\n",
    "\n",
    "def suqare(n):\n",
    "    return n * n\n",
    "\n",
    "n = check_int('請輸入正整數: ')\n",
    "suqare(n)"
   ]
  },
  {
   "cell_type": "markdown",
   "metadata": {},
   "source": [
    "### fibonacci(Loop)"
   ]
  },
  {
   "cell_type": "code",
   "execution_count": 5,
   "metadata": {},
   "outputs": [
    {
     "name": "stdout",
     "output_type": "stream",
     "text": [
      "請輸入正整數: 5\n",
      "[1, 1, 2, 3, 5]\n"
     ]
    },
    {
     "data": {
      "text/plain": [
       "5"
      ]
     },
     "execution_count": 5,
     "metadata": {},
     "output_type": "execute_result"
    }
   ],
   "source": [
    "def fibonacci(n):\n",
    "    fibonacci_list = [1, 1]\n",
    "\n",
    "    if n > 2:\n",
    "        for i in range(n - 2):\n",
    "            fibonacci_list.append(fibonacci_list[-2] + fibonacci_list[-1])\n",
    "\n",
    "    print(fibonacci_list)\n",
    "    return fibonacci_list[-1]\n",
    "\n",
    "\n",
    "n = check_int('請輸入正整數: ')\n",
    "fibonacci(n)"
   ]
  },
  {
   "cell_type": "markdown",
   "metadata": {},
   "source": [
    "### fibonacci(Recursion)"
   ]
  },
  {
   "cell_type": "code",
   "execution_count": 6,
   "metadata": {},
   "outputs": [
    {
     "name": "stdout",
     "output_type": "stream",
     "text": [
      "請輸入正整數: 5\n"
     ]
    },
    {
     "data": {
      "text/plain": [
       "5"
      ]
     },
     "execution_count": 6,
     "metadata": {},
     "output_type": "execute_result"
    }
   ],
   "source": [
    "def fibonacci(n):\n",
    "    if n <= 2:\n",
    "        return 1\n",
    "    else:\n",
    "        return fibonacci(n - 2) + fibonacci(n - 1)\n",
    "\n",
    "n = check_int('請輸入正整數: ')\n",
    "fibonacci(n)"
   ]
  },
  {
   "cell_type": "markdown",
   "metadata": {},
   "source": [
    "### factorial(Loop)"
   ]
  },
  {
   "cell_type": "code",
   "execution_count": 7,
   "metadata": {},
   "outputs": [
    {
     "name": "stdout",
     "output_type": "stream",
     "text": [
      "請輸入正整數: 5\n"
     ]
    },
    {
     "data": {
      "text/plain": [
       "120"
      ]
     },
     "execution_count": 7,
     "metadata": {},
     "output_type": "execute_result"
    }
   ],
   "source": [
    "def factorial(n):\n",
    "    result = 1\n",
    "    for i in range(1, n + 1):\n",
    "        result *= i\n",
    "    return result\n",
    "\n",
    "\n",
    "n = check_int('請輸入正整數: ')\n",
    "factorial(n)"
   ]
  },
  {
   "cell_type": "markdown",
   "metadata": {},
   "source": [
    "### factorial(Recursion)"
   ]
  },
  {
   "cell_type": "code",
   "execution_count": 8,
   "metadata": {},
   "outputs": [
    {
     "name": "stdout",
     "output_type": "stream",
     "text": [
      "請輸入正整數: 5\n"
     ]
    },
    {
     "data": {
      "text/plain": [
       "120"
      ]
     },
     "execution_count": 8,
     "metadata": {},
     "output_type": "execute_result"
    }
   ],
   "source": [
    "def factorial(n):\n",
    "    if n <= 1:\n",
    "        return 1\n",
    "    else:\n",
    "        return n * factorial(n - 1)\n",
    "\n",
    "n = check_int('請輸入正整數: ')\n",
    "factorial(n)"
   ]
  },
  {
   "cell_type": "markdown",
   "metadata": {},
   "source": [
    "### Draw Star"
   ]
  },
  {
   "cell_type": "code",
   "execution_count": 9,
   "metadata": {},
   "outputs": [
    {
     "name": "stdout",
     "output_type": "stream",
     "text": [
      "*****\n",
      "*****\n",
      "*****\n",
      "*****\n",
      "*****\n",
      "------------------------------\n",
      "*****\n",
      "*   *\n",
      "*   *\n",
      "*   *\n",
      "*****\n",
      "------------------------------\n",
      "*\n",
      "**\n",
      "***\n",
      "****\n",
      "*****\n",
      "------------------------------\n",
      "*\n",
      "**\n",
      "* *\n",
      "*  *\n",
      "*****\n",
      "------------------------------\n",
      "*****\n",
      "****\n",
      "***\n",
      "**\n",
      "*\n",
      "------------------------------\n",
      "*****\n",
      "*  *\n",
      "* *\n",
      "**\n",
      "*\n",
      "------------------------------\n",
      "    *\n",
      "   ***\n",
      "  *****\n",
      " *******\n",
      "*********\n",
      " *******\n",
      "  *****\n",
      "   ***\n",
      "    *\n",
      "------------------------------\n",
      "    *\n",
      "   ***\n",
      "  *****\n",
      " *******\n",
      "*********\n",
      " *******\n",
      "  *****\n",
      "   ***\n",
      "    *\n"
     ]
    }
   ],
   "source": [
    "# num = check_int('請輸入正整數: ')\n",
    "num = 5\n",
    "\n",
    "for i in range(1, num + 1):\n",
    "    print('*' * num)\n",
    "\n",
    "print('-' * 30)\n",
    "\n",
    "for i in range(1, num + 1):\n",
    "    if i == 1 or i == num:\n",
    "        print('*' * num)\n",
    "    else:\n",
    "        space = ' ' * (num - 2)\n",
    "        print('*' + space + '*')\n",
    "\n",
    "print('-' * 30)\n",
    "\n",
    "for i in range(1, num + 1):\n",
    "    print('*' * i)\n",
    "\n",
    "print('-' * 30)\n",
    "\n",
    "for i in range(1, num + 1):\n",
    "    if i <= 2 or i == num:\n",
    "        print('*' * i)\n",
    "    else:\n",
    "        space = ' ' * (i - 2)\n",
    "        print('*' + space + '*')\n",
    "\n",
    "print('-' * 30)\n",
    "\n",
    "for i in range(num, 0, -1):\n",
    "    print('*' * i)\n",
    "\n",
    "print('-' * 30)\n",
    "\n",
    "for i in range(num, 0, -1):\n",
    "    if i <= 2 or i == num:\n",
    "        print('*' * i)\n",
    "    else:\n",
    "        space = ' ' * (i - 2)\n",
    "        print('*' + space + '*')\n",
    "\n",
    "print('-' * 30)\n",
    "\n",
    "for i in range(1, num + 1):\n",
    "    print(' ' * (num - i) + '*' * (2 * i - 1))\n",
    "for i in range(num - 1, 0, -1):\n",
    "    print(' ' * (num - i) + '*' * (2 * i - 1))\n",
    "\n",
    "print('-' * 30)\n",
    "\n",
    "for i in range(-num + 1, num):\n",
    "    print(' ' * abs(i) + '*' * (2 * (num - abs(i)) - 1))"
   ]
  }
 ],
 "metadata": {
  "kernelspec": {
   "display_name": "Python 3",
   "language": "python",
   "name": "python3"
  },
  "language_info": {
   "codemirror_mode": {
    "name": "ipython",
    "version": 3
   },
   "file_extension": ".py",
   "mimetype": "text/x-python",
   "name": "python",
   "nbconvert_exporter": "python",
   "pygments_lexer": "ipython3",
   "version": "3.7.4"
  }
 },
 "nbformat": 4,
 "nbformat_minor": 2
}
