{
 "cells": [
  {
   "cell_type": "markdown",
   "metadata": {},
   "source": [
    "```\n",
    "使用者會輸入三個不同的整數\n",
    "程式將這三個數字從小到大輸出\n",
    "```\n",
    "\n",
    "> input\n",
    "```\n",
    "10\n",
    "2\n",
    "7\n",
    "```\n",
    "\n",
    "> output\n",
    "```\n",
    "2 < 7 < 10\n",
    "```"
   ]
  },
  {
   "cell_type": "code",
   "execution_count": 1,
   "metadata": {},
   "outputs": [
    {
     "name": "stdout",
     "output_type": "stream",
     "text": [
      "Please input an integer: 10\n",
      "Please input an integer: 2\n",
      "Please input an integer: 7\n",
      "2 < 7 < 10\n"
     ]
    }
   ],
   "source": [
    "def input_int_validator():\n",
    "    while True:\n",
    "        try:\n",
    "            user_input = int(input('Please input an integer: '))\n",
    "            return user_input\n",
    "        except ValueError as e:\n",
    "            print(e)\n",
    "\n",
    "\n",
    "def number_sort(a: int, b: int, c: int):\n",
    "    # def two_num_sort(num1: int, num2: int) -> (int, int):\n",
    "    #     temp = num1\n",
    "    #     num1 = num2\n",
    "    #     num2 = temp\n",
    "    #     return num1, num2\n",
    "\n",
    "    if a > b:\n",
    "        a, b = b, a\n",
    "\n",
    "    if b > c:\n",
    "        b, c = c, b\n",
    "\n",
    "    if a > b:\n",
    "        a, b = b, a\n",
    "\n",
    "    print(f'{a} < {b} < {c}')\n",
    "\n",
    "\n",
    "# number_sort(1, 2, 3)\n",
    "# number_sort(1, 3, 2)\n",
    "# number_sort(2, 1, 3)\n",
    "# number_sort(2, 3, 1)\n",
    "# number_sort(3, 1, 2)\n",
    "# number_sort(3, 2, 1)\n",
    "\n",
    "num1 = input_int_validator()\n",
    "num2 = input_int_validator()\n",
    "num3 = input_int_validator()\n",
    "number_sort(num1, num2, num3)"
   ]
  },
  {
   "cell_type": "markdown",
   "metadata": {},
   "source": [
    "終極密碼"
   ]
  },
  {
   "cell_type": "code",
   "execution_count": 2,
   "metadata": {},
   "outputs": [
    {
     "name": "stdout",
     "output_type": "stream",
     "text": [
      "Please input an integer, Range: 0 ~ 100: 50\n",
      "Please input an integer, Range: 50 ~ 100: a\n",
      "Please input an \"integer\"!\n",
      "Please input an integer, Range: 50 ~ 100: 101\n",
      "Range not between 50 and 100.\n",
      "Please input an integer, Range: 50 ~ 100: -1\n",
      "Range not between 50 and 100.\n",
      "Please input an integer, Range: 50 ~ 100: 75\n",
      "Please input an integer, Range: 50 ~ 75: 65\n",
      "Please input an integer, Range: 50 ~ 65: 55\n",
      "Please input an integer, Range: 55 ~ 65: 60\n",
      "Please input an integer, Range: 55 ~ 60: 57\n",
      "Bingo~~~\n"
     ]
    }
   ],
   "source": [
    "import random\n",
    "\n",
    "\n",
    "class NotInRangeError(Exception):\n",
    "    def __init__(self, min_range, max_range):\n",
    "        self.min_range = min_range\n",
    "        self.max_range = max_range\n",
    "\n",
    "    def __str__(self):\n",
    "        return f'Range not between {self.min_range} and {self.max_range}.'\n",
    "\n",
    "\n",
    "def user_input_validator(min_range, max_range):\n",
    "    while True:\n",
    "        try:\n",
    "            user_input = input(f'Please input an integer, Range: {min_range} ~ {max_range}: ')\n",
    "            user_input = int(user_input)\n",
    "\n",
    "            if not min_range < user_input < max_range:\n",
    "                raise NotInRangeError(min_range, max_range)\n",
    "\n",
    "            if user_input > answer:\n",
    "                max_range = user_input\n",
    "\n",
    "            elif user_input < answer:\n",
    "                min_range = user_input\n",
    "\n",
    "            else:\n",
    "                print('Bingo~~~')\n",
    "                break\n",
    "        except ValueError as e:\n",
    "            print('Please input an \"integer\"!')\n",
    "        except NotInRangeError as e:\n",
    "            print(e)\n",
    "\n",
    "\n",
    "min_range = 0\n",
    "max_range = 100\n",
    "answer = random.randint(min_range, max_range)\n",
    "# print(answer)\n",
    "user_input_validator(min_range, max_range)"
   ]
  },
  {
   "cell_type": "markdown",
   "metadata": {},
   "source": [
    "```\n",
    "資料夾檔案複製,\n",
    "請建立 fromHere 及 toHere 資料夾,\n",
    "並在其中放些檔案與子資料\n",
    "```\n",
    "\n",
    "> python file_copy.py fromHere toHere"
   ]
  },
  {
   "cell_type": "code",
   "execution_count": 3,
   "metadata": {},
   "outputs": [
    {
     "name": "stderr",
     "output_type": "stream",
     "text": [
      "usage: ipykernel_launcher.py [-h] src dest\n",
      "ipykernel_launcher.py: error: the following arguments are required: dest\n"
     ]
    },
    {
     "ename": "SystemExit",
     "evalue": "2",
     "output_type": "error",
     "traceback": [
      "An exception has occurred, use %tb to see the full traceback.\n",
      "\u001b[0;31mSystemExit\u001b[0m\u001b[0;31m:\u001b[0m 2\n"
     ]
    },
    {
     "name": "stderr",
     "output_type": "stream",
     "text": [
      "/Users/user/.local/share/virtualenvs/python-practice-eGIiBgFB/lib/python3.7/site-packages/IPython/core/interactiveshell.py:3334: UserWarning: To exit: use 'exit', 'quit', or Ctrl-D.\n",
      "  warn(\"To exit: use 'exit', 'quit', or Ctrl-D.\", stacklevel=1)\n"
     ]
    }
   ],
   "source": [
    "import argparse\n",
    "import os\n",
    "import shutil\n",
    "import sys\n",
    "\n",
    "\n",
    "def check_path(path):\n",
    "    if os.path.isdir(path):\n",
    "        return os.path.join(path, '')\n",
    "    else:\n",
    "        print(f'{path} is not found.')\n",
    "        sys.exit(2)\n",
    "\n",
    "\n",
    "# setup command arguments\n",
    "parser = argparse.ArgumentParser()\n",
    "parser.add_argument('src', help='your source folder path')\n",
    "parser.add_argument('dest', help='your destination folder path')\n",
    "args = parser.parse_args()\n",
    "src = check_path(args.src)\n",
    "dest = check_path(args.dest)\n",
    "\n",
    "# backup files\n",
    "for dir_path, dir_names, file_names in os.walk(src):\n",
    "    src_path = dir_path.replace(src, '')\n",
    "    dest_path = dest\n",
    "    print(f'目標路徑: {dest_path}')\n",
    "\n",
    "    if not src_path:\n",
    "        print('目前在根目錄')\n",
    "    else:\n",
    "        print(f'資料夾路徑: {src_path}')\n",
    "        dest_path = os.path.join(dest, src_path)\n",
    "\n",
    "        if not os.path.exists(dest_path):\n",
    "            print(f'新增資料夾: {src_path}')\n",
    "            os.makedirs(dest_path)\n",
    "\n",
    "    for file in file_names:\n",
    "        src_file_path = os.path.join(dir_path, file)\n",
    "        dest_file_path = os.path.join(dest_path, file)\n",
    "\n",
    "        if not os.path.exists(dest_file_path):\n",
    "            shutil.copy2(src_file_path, dest_file_path)\n",
    "\n",
    "        else:\n",
    "            src_file_time = int(os.path.getmtime(src_file_path))\n",
    "            dest_file_time = int(os.path.getmtime(dest_file_path))\n",
    "\n",
    "            if src_file_time > dest_file_time:\n",
    "                shutil.copy2(src_file_path, dest_file_path)\n",
    "            elif dest_file_time > src_file_time:\n",
    "                shutil.copy2(dest_file_path, src_file_path)"
   ]
  },
  {
   "cell_type": "markdown",
   "metadata": {},
   "source": [
    "```python\n",
    "mscore = [\n",
    "    ['s120', 90],\n",
    "    ['s125', 68],\n",
    "    ['s122', 95],\n",
    "    ['s127', 80],\n",
    "    ['s124', 70],\n",
    "]\n",
    "```\n",
    "\n",
    "假設上述2維串列存放每個學號與分數\n",
    "1. 請按照學號排序, 從小到大輸出\n",
    "2. 請按照分數排序, 從大到小輸出"
   ]
  },
  {
   "cell_type": "code",
   "execution_count": 1,
   "metadata": {},
   "outputs": [
    {
     "name": "stdout",
     "output_type": "stream",
     "text": [
      "[['s120', 90], ['s122', 95], ['s124', 70], ['s125', 68], ['s127', 80]]\n",
      "[['s122', 95], ['s120', 90], ['s127', 80], ['s124', 70], ['s125', 68]]\n"
     ]
    }
   ],
   "source": [
    "from operator import itemgetter\n",
    "\n",
    "mscore = [\n",
    "    ['s120', 90],\n",
    "    ['s125', 68],\n",
    "    ['s122', 95],\n",
    "    ['s127', 80],\n",
    "    ['s124', 70],\n",
    "]\n",
    "\n",
    "# mscore.sort(key=lambda x: x[0])\n",
    "mscore.sort(key=itemgetter(0))\n",
    "print(mscore)\n",
    "# mscore.sort(key=lambda x: x[1], reverse=True)\n",
    "mscore.sort(key=itemgetter(1), reverse=True)\n",
    "print(mscore)"
   ]
  },
  {
   "cell_type": "markdown",
   "metadata": {},
   "source": [
    "```python\n",
    "mdata = ['720p', '360p', '240p', '1080p']\n",
    "```\n",
    "\n",
    "請將此串列按照 1080p->720p->360p->240p 順序排序"
   ]
  },
  {
   "cell_type": "code",
   "execution_count": 2,
   "metadata": {},
   "outputs": [
    {
     "name": "stdout",
     "output_type": "stream",
     "text": [
      "['1080p', '720p', '360p', '240p']\n"
     ]
    }
   ],
   "source": [
    "mdata = ['720p', '360p', '240p', '1080p']\n",
    "\n",
    "mdata.sort(key=lambda x: int(x[:-1]), reverse=True)\n",
    "print(mdata)"
   ]
  },
  {
   "cell_type": "markdown",
   "metadata": {},
   "source": [
    "請撰寫一myutil.py的模組, 包含判斷質數的函式\n",
    "再撰寫另一個py程式去呼叫"
   ]
  },
  {
   "cell_type": "code",
   "execution_count": 3,
   "metadata": {},
   "outputs": [
    {
     "name": "stdout",
     "output_type": "stream",
     "text": [
      "Please input an integer: 11\n",
      "True\n"
     ]
    }
   ],
   "source": [
    "# myutil.py\n",
    "def check_input():\n",
    "    try:\n",
    "        while True:\n",
    "            user_input = input('Please input an integer: ')\n",
    "            return int(user_input)\n",
    "    except ValueError:\n",
    "        print('Input is not a number')\n",
    "\n",
    "\n",
    "def check_prime(num):\n",
    "    if num <= 1:\n",
    "        return False\n",
    "\n",
    "    for i in range(2, num - 1):\n",
    "        if num % i == 0:\n",
    "            return False\n",
    "    return True\n",
    "\n",
    "\n",
    "\n",
    "# main.py\n",
    "import myutil\n",
    "\n",
    "num = myutil.check_input()\n",
    "is_prime = myutil.check_prime(num)\n",
    "print(is_prime)"
   ]
  }
 ],
 "metadata": {
  "kernelspec": {
   "display_name": "Python 3",
   "language": "python",
   "name": "python3"
  },
  "language_info": {
   "codemirror_mode": {
    "name": "ipython",
    "version": 3
   },
   "file_extension": ".py",
   "mimetype": "text/x-python",
   "name": "python",
   "nbconvert_exporter": "python",
   "pygments_lexer": "ipython3",
   "version": "3.7.5"
  }
 },
 "nbformat": 4,
 "nbformat_minor": 2
}
