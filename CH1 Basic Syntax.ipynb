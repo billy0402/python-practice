{
 "cells": [
  {
   "cell_type": "markdown",
   "metadata": {},
   "source": [
    "### 檔案模式\n",
    "\n",
    "- r 可以讀取，無法寫入，檔案不存在噴錯\n",
    "- r+ 可以讀取，覆蓋寫入，檔案不存在噴錯\n",
    "- w 無法讀取，覆蓋寫入，檔案不存在創建\n",
    "- w+ 可以讀取，覆蓋寫入，檔案不存在創建\n",
    "- a 無法讀取，附加寫入，檔案不存在創建\n",
    "- a+ 可以讀取，附加寫入，檔案不存在創鍵"
   ]
  },
  {
   "cell_type": "markdown",
   "metadata": {},
   "source": [
    "### Fibonacci Sequence"
   ]
  },
  {
   "cell_type": "code",
   "execution_count": 1,
   "metadata": {},
   "outputs": [
    {
     "name": "stdout",
     "output_type": "stream",
     "text": [
      "第 1 個數是： 1\n",
      "第 2 個數是： 1\n",
      "第 3 個數是： 2\n",
      "第 4 個數是： 3\n",
      "第 5 個數是： 5\n",
      "第 6 個數是： 8\n",
      "第 7 個數是： 13\n",
      "第 8 個數是： 21\n",
      "第 9 個數是： 34\n",
      "第 10 個數是： 55\n"
     ]
    }
   ],
   "source": [
    "import time\n",
    "\n",
    "\n",
    "def fbis(num):\n",
    "    result = [1, 1]\n",
    "    for i in range(num - 2):\n",
    "        result.append(result[-2] + result[-1])\n",
    "    return result\n",
    "\n",
    "\n",
    "def main():\n",
    "    result = fbis(10)\n",
    "    fobj = open('./result.txt', 'w+')\n",
    "    for i, num in enumerate(result):\n",
    "        print('第 {} 個數是： {}'.format(i + 1, num))\n",
    "        fobj.write('{}\\n'.format(num))\n",
    "        time.sleep(1)\n",
    "\n",
    "\n",
    "if __name__ == '__main__':\n",
    "    main()"
   ]
  },
  {
   "cell_type": "markdown",
   "metadata": {},
   "source": [
    "### if-else"
   ]
  },
  {
   "cell_type": "code",
   "execution_count": 2,
   "metadata": {},
   "outputs": [
    {
     "ename": "ValueError",
     "evalue": "invalid literal for int() with base 10: '-f'",
     "output_type": "error",
     "traceback": [
      "\u001b[0;31m---------------------------------------------------------------------------\u001b[0m",
      "\u001b[0;31mValueError\u001b[0m                                Traceback (most recent call last)",
      "\u001b[0;32m<ipython-input-2-dd149c3f4a3a>\u001b[0m in \u001b[0;36m<module>\u001b[0;34m\u001b[0m\n\u001b[1;32m      5\u001b[0m \u001b[0;34m\u001b[0m\u001b[0m\n\u001b[1;32m      6\u001b[0m \u001b[0;32mif\u001b[0m \u001b[0mlen\u001b[0m\u001b[0;34m(\u001b[0m\u001b[0msys\u001b[0m\u001b[0;34m.\u001b[0m\u001b[0margv\u001b[0m\u001b[0;34m)\u001b[0m \u001b[0;34m>\u001b[0m \u001b[0;36m1\u001b[0m\u001b[0;34m:\u001b[0m\u001b[0;34m\u001b[0m\u001b[0;34m\u001b[0m\u001b[0m\n\u001b[0;32m----> 7\u001b[0;31m     \u001b[0mparam\u001b[0m \u001b[0;34m=\u001b[0m \u001b[0mint\u001b[0m\u001b[0;34m(\u001b[0m\u001b[0msys\u001b[0m\u001b[0;34m.\u001b[0m\u001b[0margv\u001b[0m\u001b[0;34m[\u001b[0m\u001b[0;36m1\u001b[0m\u001b[0;34m]\u001b[0m\u001b[0;34m)\u001b[0m\u001b[0;34m\u001b[0m\u001b[0;34m\u001b[0m\u001b[0m\n\u001b[0m\u001b[1;32m      8\u001b[0m \u001b[0;34m\u001b[0m\u001b[0m\n\u001b[1;32m      9\u001b[0m \u001b[0;32mif\u001b[0m \u001b[0mparam\u001b[0m \u001b[0;32mis\u001b[0m \u001b[0;32mNone\u001b[0m\u001b[0;34m:\u001b[0m\u001b[0;34m\u001b[0m\u001b[0;34m\u001b[0m\u001b[0m\n",
      "\u001b[0;31mValueError\u001b[0m: invalid literal for int() with base 10: '-f'"
     ]
    }
   ],
   "source": [
    "# terminal: $ python main.py <param number>\n",
    "import sys\n",
    "\n",
    "param = None\n",
    "\n",
    "if len(sys.argv) > 1:\n",
    "    param = int(sys.argv[1])\n",
    "\n",
    "if param is None:\n",
    "    print('Alert: the param is not set!!')\n",
    "elif param < -10:\n",
    "    print('The param is small.')\n",
    "elif param > 10:\n",
    "    print('The param is big.')\n",
    "else:\n",
    "    print('The param is middle.')"
   ]
  },
  {
   "cell_type": "markdown",
   "metadata": {},
   "source": [
    "### while: continue break"
   ]
  },
  {
   "cell_type": "code",
   "execution_count": 3,
   "metadata": {
    "scrolled": true
   },
   "outputs": [
    {
     "name": "stdout",
     "output_type": "stream",
     "text": [
      "Enter input: test\n",
      "Enter input: test\n",
      "Enter input: test\n",
      "Please input \"quit\"!\n",
      "Enter input: quit\n",
      "Quit loop successfully!\n"
     ]
    }
   ],
   "source": [
    "count = 0\n",
    "\n",
    "while True:\n",
    "    input_text = input('Enter input: ')\n",
    "    if input_text == 'quit':\n",
    "        break\n",
    "    count += 1\n",
    "\n",
    "    if count % 3 != 0:\n",
    "        continue\n",
    "    print('Please input \"quit\"!')\n",
    "\n",
    "print('Quit loop successfully!')"
   ]
  },
  {
   "cell_type": "markdown",
   "metadata": {},
   "source": [
    "### loop: if while for"
   ]
  },
  {
   "cell_type": "code",
   "execution_count": 4,
   "metadata": {},
   "outputs": [
    {
     "name": "stdout",
     "output_type": "stream",
     "text": [
      "before sort: [4, 0, 3, -13, 5, 8, 31]\n",
      "after sort: [-13, 0, 3, 4, 5, 8, 31]\n"
     ]
    }
   ],
   "source": [
    "my_list = [4, 0, 3, -13, 5, 8, 31]\n",
    "\n",
    "print('before sort: {}'.format(my_list))\n",
    "\n",
    "my_list_len = len(my_list)\n",
    "\n",
    "for i in range(0, my_list_len - 1):\n",
    "    for j in range(i + 1, my_list_len - 1):\n",
    "        if my_list[i] > my_list[j]:\n",
    "            my_list[i], my_list[j] = my_list[j], my_list[i]\n",
    "\n",
    "print('after sort: {}'.format(my_list))"
   ]
  },
  {
   "cell_type": "markdown",
   "metadata": {},
   "source": [
    "### *args (Tuple)"
   ]
  },
  {
   "cell_type": "code",
   "execution_count": 5,
   "metadata": {},
   "outputs": [
    {
     "name": "stdout",
     "output_type": "stream",
     "text": [
      "Good morning, Jack\n",
      "Good morning, Evans\n",
      "Good morning, Rose Hasa\n",
      "Good morning, 893\n",
      "Good morning, Zion\n"
     ]
    }
   ],
   "source": [
    "def show_message(message, *tupleName):\n",
    "    for name in tupleName:\n",
    "        print('{}, {}'.format(message, name))\n",
    "\n",
    "\n",
    "if __name__ == '__main__':\n",
    "    show_message('Good morning', 'Jack', 'Evans', 'Rose Hasa', 893, 'Zion')"
   ]
  },
  {
   "cell_type": "markdown",
   "metadata": {},
   "source": [
    "### **kwargs (Dictionary)"
   ]
  },
  {
   "cell_type": "code",
   "execution_count": 6,
   "metadata": {},
   "outputs": [
    {
     "name": "stdout",
     "output_type": "stream",
     "text": [
      "Book Information:\n",
      "author: James\n",
      "Title: Economic Introduction\n",
      "\n",
      "-----I want to buy this book!-----\n",
      "Book Information:\n",
      "author: Linda\n",
      "Title: Deepin in Python\n",
      "Date: 2015/05/01\n",
      "Price: 302\n",
      "\n"
     ]
    }
   ],
   "source": [
    "def check_book(**dicParam):\n",
    "    if 'Price' in dicParam:\n",
    "        price = int(dicParam['Price'])\n",
    "        if price > 100:\n",
    "            print('-----I want to buy this book!-----')\n",
    "\n",
    "    print('Book Information:')\n",
    "    for (key, value) in dicParam.items():\n",
    "        print('{}: {}'.format(key, value))\n",
    "    print('')\n",
    "\n",
    "\n",
    "if __name__ == '__main__':\n",
    "    check_book(author='James', Title='Economic Introduction')\n",
    "    check_book(author='Linda', Title='Deepin in Python', Date='2015/05/01', Price=302)"
   ]
  },
  {
   "cell_type": "markdown",
   "metadata": {},
   "source": [
    "### Anonymous Function: lambda"
   ]
  },
  {
   "cell_type": "code",
   "execution_count": 7,
   "metadata": {},
   "outputs": [
    {
     "name": "stdout",
     "output_type": "stream",
     "text": [
      "2019-08-08 02:02:58.743863\n",
      "I‘m named function with param hello.\n",
      "\n",
      "2019-08-08 02:02:58.744460\n",
      "18\n",
      "\n",
      "2019-08-08 02:02:58.744555\n",
      "16\n",
      "\n"
     ]
    }
   ],
   "source": [
    "import datetime\n",
    "\n",
    "\n",
    "def named_func(param):\n",
    "    return 'I‘m named function with param {}.'.format(param)\n",
    "\n",
    "\n",
    "def call_func(func, param):\n",
    "    print(datetime.datetime.now())\n",
    "    print(func(param))\n",
    "    print(\"\")\n",
    "\n",
    "\n",
    "if __name__ == '__main__':\n",
    "    call_func(named_func, 'hello')\n",
    "    call_func(lambda x: x * 2, 9)\n",
    "    call_func(lambda y: y * y, -4)"
   ]
  },
  {
   "cell_type": "markdown",
   "metadata": {},
   "source": [
    "### Self-defined Exception"
   ]
  },
  {
   "cell_type": "code",
   "execution_count": 8,
   "metadata": {},
   "outputs": [
    {
     "name": "stdout",
     "output_type": "stream",
     "text": [
      "-----Start of main()-----\n",
      "I‘m a self-defined Error!\n",
      "Process finished.\n"
     ]
    }
   ],
   "source": [
    "class MyError(Exception):\n",
    "    def __str__(self):\n",
    "        return 'I‘m a self-defined Error!'\n",
    "\n",
    "\n",
    "def main():\n",
    "    try:\n",
    "        print('-----Start of main()-----')\n",
    "        if True:\n",
    "            raise MyError()\n",
    "        print('-----End of main()-----')\n",
    "    except MyError as e:\n",
    "        print(e)\n",
    "    else:\n",
    "        print('No exception happened.')\n",
    "    finally:\n",
    "        print('Process finished.')\n",
    "\n",
    "\n",
    "if __name__ == '__main__':\n",
    "    main()"
   ]
  },
  {
   "cell_type": "markdown",
   "metadata": {},
   "source": [
    "### Class"
   ]
  },
  {
   "cell_type": "code",
   "execution_count": 9,
   "metadata": {},
   "outputs": [
    {
     "name": "stdout",
     "output_type": "stream",
     "text": [
      "Static method is called.\n",
      "Hello, Developer.\n",
      "Object will be created with MyClass(Tony, Red)\n",
      "Constructor is called with params(Tony, Red)\n",
      "Hello, Developer.\n"
     ]
    },
    {
     "ename": "AttributeError",
     "evalue": "'MyClass' object has no attribute '__name'",
     "output_type": "error",
     "traceback": [
      "\u001b[0;31m---------------------------------------------------------------------------\u001b[0m",
      "\u001b[0;31mAttributeError\u001b[0m                            Traceback (most recent call last)",
      "\u001b[0;32m<ipython-input-9-c1aa534ce89d>\u001b[0m in \u001b[0;36m<module>\u001b[0;34m\u001b[0m\n\u001b[1;32m     32\u001b[0m \u001b[0;31m# 封裝 (Encapsulation)\u001b[0m\u001b[0;34m\u001b[0m\u001b[0;34m\u001b[0m\u001b[0;34m\u001b[0m\u001b[0m\n\u001b[1;32m     33\u001b[0m \u001b[0mprint\u001b[0m\u001b[0;34m(\u001b[0m\u001b[0minstance\u001b[0m\u001b[0;34m.\u001b[0m\u001b[0mmessage\u001b[0m\u001b[0;34m)\u001b[0m  \u001b[0;31m# public meber\u001b[0m\u001b[0;34m\u001b[0m\u001b[0;34m\u001b[0m\u001b[0m\n\u001b[0;32m---> 34\u001b[0;31m \u001b[0mprint\u001b[0m\u001b[0;34m(\u001b[0m\u001b[0minstance\u001b[0m\u001b[0;34m.\u001b[0m\u001b[0m__name\u001b[0m\u001b[0;34m)\u001b[0m  \u001b[0;31m# private member\u001b[0m\u001b[0;34m\u001b[0m\u001b[0;34m\u001b[0m\u001b[0m\n\u001b[0m\u001b[1;32m     35\u001b[0m \u001b[0;32mdel\u001b[0m \u001b[0minstance\u001b[0m\u001b[0;34m\u001b[0m\u001b[0;34m\u001b[0m\u001b[0m\n",
      "\u001b[0;31mAttributeError\u001b[0m: 'MyClass' object has no attribute '__name'"
     ]
    }
   ],
   "source": [
    "class MyClass(object):\n",
    "    message = 'Hello, Developer.'\n",
    "\n",
    "    def show(self):\n",
    "        print(self.message)\n",
    "        print('Here is {} in {}'.format(self.name, self.color))\n",
    "\n",
    "    @staticmethod\n",
    "    def print_message():\n",
    "        print('Static method is called.')\n",
    "        print(MyClass.message)\n",
    "\n",
    "    @classmethod\n",
    "    def create_object(cls, name, color):\n",
    "        print('Object will be created with {}({}, {})'.format(cls.__name__, name, color))\n",
    "        return cls(name, color)\n",
    "\n",
    "    # constructor\n",
    "    def __init__(self, name='unset', color='black'):\n",
    "        print('Constructor is called with params({}, {})'.format(name, color))\n",
    "        self.__name = name\n",
    "        self.__color = color\n",
    "\n",
    "    # destructor\n",
    "    def __del__(self):\n",
    "        print('Destructor is called for {}.'.format(self.__name))\n",
    "\n",
    "\n",
    "MyClass.print_message()\n",
    "\n",
    "instance = MyClass.create_object('Tony', 'Red')\n",
    "# 封裝 (Encapsulation)\n",
    "print(instance.message)  # public meber\n",
    "print(instance.__name)  # private member\n",
    "del instance"
   ]
  },
  {
   "cell_type": "markdown",
   "metadata": {},
   "source": [
    "### 繼承 (Inheritance)"
   ]
  },
  {
   "cell_type": "code",
   "execution_count": 10,
   "metadata": {},
   "outputs": [
    {
     "name": "stdout",
     "output_type": "stream",
     "text": [
      "Constructor of SubA is called.\n",
      "Method move of SubA is called.\n",
      "Destructor of Base is called.\n",
      "----------\n",
      "Constructor of Base is called.\n",
      "Method move of Base is called.\n",
      "Destructor of SubB is called.\n",
      "Destructor of Base is called.\n"
     ]
    }
   ],
   "source": [
    "class Base(object):\n",
    "    def __init__(self):\n",
    "        print('Constructor of Base is called.')\n",
    "\n",
    "    def __del__(self):\n",
    "        print('Destructor of Base is called.')\n",
    "\n",
    "    @staticmethod\n",
    "    def move():\n",
    "        print('Method move of Base is called.')\n",
    "\n",
    "\n",
    "class SubA(Base):\n",
    "    def __init__(self):\n",
    "        print('Constructor of SubA is called.')\n",
    "\n",
    "    @staticmethod\n",
    "    def move():\n",
    "        print('Method move of SubA is called.')\n",
    "\n",
    "\n",
    "class SubB(Base):\n",
    "    def __del__(self):\n",
    "        print('Destructor of SubB is called.')\n",
    "        super(SubB, self).__del__()\n",
    "\n",
    "\n",
    "instanceA = SubA()\n",
    "instanceA.move() # 多型 (Polymorphism)\n",
    "del instanceA\n",
    "\n",
    "print('----------')\n",
    "\n",
    "instanceB = SubB()\n",
    "instanceB.move() # 多型 (Polymorphism)\n",
    "del instanceB"
   ]
  },
  {
   "cell_type": "markdown",
   "metadata": {},
   "source": [
    "### 多重繼承"
   ]
  },
  {
   "cell_type": "code",
   "execution_count": 11,
   "metadata": {},
   "outputs": [
    {
     "name": "stdout",
     "output_type": "stream",
     "text": [
      "Destructor is called for Tony.\n",
      "Method move called in Base C.\n"
     ]
    }
   ],
   "source": [
    "class BaseA(object):\n",
    "    @staticmethod\n",
    "    def move():\n",
    "        print('Method move called in Base A.')\n",
    "\n",
    "\n",
    "class BaseB(object):\n",
    "    @staticmethod\n",
    "    def move():\n",
    "        print('Method move called in Base B.')\n",
    "\n",
    "\n",
    "class BaseC(object):\n",
    "    @staticmethod\n",
    "    def move():\n",
    "        print('Method move called in Base C.')\n",
    "\n",
    "\n",
    "class Sub(BaseC, BaseB):\n",
    "    pass\n",
    "\n",
    "\n",
    "instance = Sub()\n",
    "instance.move()"
   ]
  }
 ],
 "metadata": {
  "kernelspec": {
   "display_name": "Python 3",
   "language": "python",
   "name": "python3"
  },
  "language_info": {
   "codemirror_mode": {
    "name": "ipython",
    "version": 3
   },
   "file_extension": ".py",
   "mimetype": "text/x-python",
   "name": "python",
   "nbconvert_exporter": "python",
   "pygments_lexer": "ipython3",
   "version": "3.7.4"
  }
 },
 "nbformat": 4,
 "nbformat_minor": 2
}
