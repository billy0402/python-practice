{
 "cells": [
  {
   "cell_type": "markdown",
   "metadata": {},
   "source": [
    "請撰寫一 ?A?B 的小遊戲，檔名為 numberguess.py (5%)\n",
    "1. 隨機產生四個不重覆，介於 0~9 的數字(5%)，如 0123\n",
    "    1. 請先輸出答案 (5%)\n",
    "2. 讓使用者輸入四個數字，如 0273 (5%)\n",
    "    1. 需檢查是不是四個 (5%)\n",
    "    2. 需檢查有沒有重覆 (5%)\n",
    "    3. 如果違反上述檢查，則需再次讓使用者輸入直到正確 (5%)\n",
    "3. 比對這兩組數字，位置一致且數字一致則 A 加 1，位置不一致但數字一數則 B 加 1，如 0123 跟 0273，則輸出 2A1B (5%)\n",
    "4. 若使用者輸入的數字得到 4A0B 則輸出「你答對了!」並結束遊戲，並將猜題過程 一次輸出 (5%)\n",
    "5. 若使用者輸入的數字尚未得到 4A0B，則回到第二步再次讓使用者再次輸入 (5%)\n",
    "\n",
    "**提示:使用 Random 模組，數字不一定真的是數字**"
   ]
  },
  {
   "cell_type": "code",
   "execution_count": 1,
   "metadata": {},
   "outputs": [
    {
     "name": "stdout",
     "output_type": "stream",
     "text": [
      "2391\n",
      "請輸入四個不同的數字: a\n",
      "輸入非數字!請重新輸入\n",
      "請輸入四個不同的數字: 1.0\n",
      "輸入非數字!請重新輸入\n",
      "請輸入四個不同的數字: 1111\n",
      "輸入數字重複!請重新輸入\n",
      "請輸入四個不同的數字: 1234\n",
      "0A3B\n",
      "請輸入四個不同的數字: 2319\n",
      "2A2B\n",
      "請輸入四個不同的數字: 2391\n",
      "4A0B\n",
      "你答對了!\n",
      "1234 => 0A3B\n",
      "2319 => 2A2B\n",
      "2391 => 4A0B\n"
     ]
    }
   ],
   "source": [
    "import random\n",
    "\n",
    "\n",
    "def make_answer_nums():\n",
    "    num_set = set(range(0, 10))\n",
    "    random_four_num = random.sample(num_set, 4)\n",
    "    answer_num = ''.join({str(num) for num in random_four_num})\n",
    "    print(answer_num)\n",
    "    return answer_num\n",
    "\n",
    "\n",
    "def get_user_numbers():\n",
    "    while True:\n",
    "        user_input = input('請輸入四個不同的數字: ')\n",
    "        if not user_input.isdigit():\n",
    "            print('輸入非數字!請重新輸入')\n",
    "            continue\n",
    "        elif len(user_input) != 4:\n",
    "            print('輸入數字需為四碼!請重新輸入')\n",
    "            continue\n",
    "        elif len(set(user_input)) != 4:\n",
    "            print('輸入數字重複!請重新輸入')\n",
    "            continue\n",
    "        return user_input\n",
    "\n",
    "\n",
    "def check_user_number(random_nums, user_nums):\n",
    "    a = 0\n",
    "    b = 0\n",
    "    for random_num, user_num in zip(random_nums, user_nums):\n",
    "        if random_num == user_num:\n",
    "            a += 1\n",
    "\n",
    "    for num in random_nums:\n",
    "        if num in user_nums:\n",
    "            b += 1\n",
    "    b = b - a\n",
    "\n",
    "    result = f'{a}A{b}B'\n",
    "    print(result)\n",
    "    return result\n",
    "\n",
    "\n",
    "def guest_number_game():\n",
    "    answer_nums = make_answer_nums()\n",
    "    all_check_results = []\n",
    "    while True:\n",
    "        user_nums = get_user_numbers()\n",
    "        check_result = check_user_number(answer_nums, user_nums)\n",
    "        all_check_results.append(f'{user_nums} => {check_result}')\n",
    "        if check_result == '4A0B':\n",
    "            print('你答對了!')\n",
    "            print('\\n'.join(all_check_results))\n",
    "            break\n",
    "\n",
    "\n",
    "guest_number_game()"
   ]
  },
  {
   "cell_type": "markdown",
   "metadata": {},
   "source": [
    "建立一單向的同步程式\n",
    "1. 指令: python .\\mycopytree.py --src C:\\Users\\leonjye\\Documents\\from --dest C:\\Users\\leonjye\\Documents\\to (10%)\n",
    "2. 從 --src 指定的「來源資料夾」路徑，複製整個資料夾內容到 --dest 指定的「目的地」路徑 (10%)\n",
    "3. 僅需複製或建立「目的地」不存在的資料夾，或較「來源資料夾」中的檔案舊的檔案 (10%)\n",
    "4. 當「來源資料夾」中的檔案被刪除，需刪除掉「目的地」資料夾中的檔案(不考慮來源的資料夾會被刪除的情形)(10%)\n",
    "5. 建立「目的地」資料夾、複製檔案、複製較新的檔案及刪除「目的地」檔案時，需輸出如附圖訊息 (10%)"
   ]
  },
  {
   "cell_type": "code",
   "execution_count": 2,
   "metadata": {},
   "outputs": [
    {
     "name": "stderr",
     "output_type": "stream",
     "text": [
      "usage: ipykernel_launcher.py [-h] [--src SRC] [--dest DEST]\n",
      "ipykernel_launcher.py: error: unrecognized arguments: -f /Users/user/Library/Jupyter/runtime/kernel-0998ec1b-0d48-41e6-8dcc-ea508149a7c6.json\n"
     ]
    },
    {
     "ename": "SystemExit",
     "evalue": "2",
     "output_type": "error",
     "traceback": [
      "An exception has occurred, use %tb to see the full traceback.\n",
      "\u001b[0;31mSystemExit\u001b[0m\u001b[0;31m:\u001b[0m 2\n"
     ]
    },
    {
     "name": "stderr",
     "output_type": "stream",
     "text": [
      "/Users/user/.local/share/virtualenvs/python-practice-eGIiBgFB/lib/python3.7/site-packages/IPython/core/interactiveshell.py:3334: UserWarning: To exit: use 'exit', 'quit', or Ctrl-D.\n",
      "  warn(\"To exit: use 'exit', 'quit', or Ctrl-D.\", stacklevel=1)\n"
     ]
    }
   ],
   "source": [
    "import argparse\n",
    "import os\n",
    "import shutil\n",
    "import sys\n",
    "\n",
    "\n",
    "def check_path(path):\n",
    "    if os.path.isdir(path):\n",
    "        return os.path.join(path, '')\n",
    "    else:\n",
    "        print(f'{path} is not found.')\n",
    "        sys.exit(2)\n",
    "\n",
    "\n",
    "# setup command arguments\n",
    "parser = argparse.ArgumentParser()\n",
    "parser.add_argument('--src', help='your source folder path')\n",
    "parser.add_argument('--dest', help='your destination folder path')\n",
    "args = parser.parse_args()\n",
    "src = check_path(args.src)\n",
    "dest = check_path(args.dest)\n",
    "\n",
    "# backup files\n",
    "for dir_path, dir_names, file_names in os.walk(src):\n",
    "    src_path = dir_path.replace(src, '')\n",
    "    dest_path = os.path.join(dest, src_path)\n",
    "    print(f'now: {src}{src_path}')\n",
    "\n",
    "    # make directory\n",
    "    if not os.path.exists(dest_path):\n",
    "        print(f'mkdir: {src}{src_path}')\n",
    "        os.makedirs(dest_path)\n",
    "\n",
    "    # delete files\n",
    "    src_path_files = set(os.listdir(dir_path))\n",
    "    dest_path_files = set(os.listdir(dest_path))\n",
    "    delete_files = dest_path_files.difference(src_path_files)\n",
    "    for delete_file in delete_files:\n",
    "        delete_file_path = os.path.join(dest_path, delete_file)\n",
    "        print(f'del file: {delete_file_path}')\n",
    "        os.remove(delete_file_path)\n",
    "\n",
    "    for file in file_names:\n",
    "        src_file_path = os.path.join(dir_path, file)\n",
    "        dest_file_path = os.path.join(dest_path, file)\n",
    "\n",
    "        # copy file\n",
    "        if not os.path.exists(dest_file_path):\n",
    "            print(f'copy file from {src_file_path} to {dest_file_path}')\n",
    "            shutil.copy2(src_file_path, dest_file_path)\n",
    "\n",
    "        # copy newer file\n",
    "        else:\n",
    "            src_file_time = int(os.path.getmtime(src_file_path))\n",
    "            dest_file_time = int(os.path.getmtime(dest_file_path))\n",
    "\n",
    "            if src_file_time > dest_file_time:\n",
    "                print(f'copy newer file from {src_file_path} to {dest_file_path}')\n",
    "                shutil.copy2(src_file_path, dest_file_path)"
   ]
  },
  {
   "cell_type": "code",
   "execution_count": null,
   "metadata": {},
   "outputs": [],
   "source": [
    "! python mycopytree.py --src from --dest to"
   ]
  }
 ],
 "metadata": {
  "kernelspec": {
   "display_name": "Python 3",
   "language": "python",
   "name": "python3"
  },
  "language_info": {
   "codemirror_mode": {
    "name": "ipython",
    "version": 3
   },
   "file_extension": ".py",
   "mimetype": "text/x-python",
   "name": "python",
   "nbconvert_exporter": "python",
   "pygments_lexer": "ipython3",
   "version": "3.7.4"
  }
 },
 "nbformat": 4,
 "nbformat_minor": 2
}
