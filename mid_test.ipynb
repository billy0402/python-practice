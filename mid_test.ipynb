{
 "cells": [
  {
   "cell_type": "markdown",
   "metadata": {},
   "source": [
    "### Q1"
   ]
  },
  {
   "cell_type": "code",
   "execution_count": 1,
   "metadata": {
    "scrolled": false
   },
   "outputs": [
    {
     "name": "stdout",
     "output_type": "stream",
     "text": [
      "請輸入一個正整數: 10\n",
      "fib(10) = 55\n"
     ]
    }
   ],
   "source": [
    "def check_int(hint):\n",
    "    while True:\n",
    "        try:\n",
    "            user_input = input(hint)\n",
    "            user_input = int(user_input)\n",
    "\n",
    "            if user_input > 0:\n",
    "                return user_input\n",
    "        except Exception as e:\n",
    "            print(e)\n",
    "\n",
    "\n",
    "def fib(num):\n",
    "    fib_list = [1, 1]\n",
    "\n",
    "    for i in range(num - 2):\n",
    "        fib_list.append(fib_list[-2] + fib_list[-1])\n",
    "\n",
    "    print('fib({}) = {}'.format(num, fib_list[num - 1]))\n",
    "\n",
    "\n",
    "num = check_int('請輸入一個正整數: ')\n",
    "fib(num)"
   ]
  },
  {
   "cell_type": "markdown",
   "metadata": {},
   "source": [
    "### Q2"
   ]
  },
  {
   "cell_type": "code",
   "execution_count": 2,
   "metadata": {},
   "outputs": [
    {
     "name": "stdout",
     "output_type": "stream",
     "text": [
      "請輸入大於等於0的整數: 10\n",
      "total = 55\n"
     ]
    }
   ],
   "source": [
    "def check_int(hint):\n",
    "    while True:\n",
    "        try:\n",
    "            user_input = input(hint)\n",
    "            user_input = int(user_input)\n",
    "\n",
    "            if user_input >= 0:\n",
    "                return user_input\n",
    "        except Exception as e:\n",
    "            print(e)\n",
    "\n",
    "\n",
    "def total(num):\n",
    "    result = 0\n",
    "\n",
    "    for i in range(num + 1):\n",
    "        result += i\n",
    "\n",
    "    print('total = {}'.format(result))\n",
    "\n",
    "\n",
    "num = check_int('請輸入大於等於0的整數: ')\n",
    "total(num)"
   ]
  },
  {
   "cell_type": "markdown",
   "metadata": {},
   "source": [
    "### Q3"
   ]
  },
  {
   "cell_type": "code",
   "execution_count": 3,
   "metadata": {},
   "outputs": [
    {
     "name": "stdout",
     "output_type": "stream",
     "text": [
      "請輸入大於等於2的整數: 10\n",
      "是偶數\n"
     ]
    }
   ],
   "source": [
    "def check_int(hint):\n",
    "    while True:\n",
    "        try:\n",
    "            user_input = input(hint)\n",
    "            user_input = int(user_input)\n",
    "\n",
    "            if user_input >= 2:\n",
    "                return user_input\n",
    "        except Exception as e:\n",
    "            print(e)\n",
    "\n",
    "\n",
    "def check_num(num):\n",
    "    if num % 2 == 0:\n",
    "        print('是偶數')\n",
    "    else:\n",
    "        is_prime = True\n",
    "\n",
    "        for i in range(3, num):\n",
    "            if num % i == 0:\n",
    "                is_prime = False\n",
    "                break\n",
    "\n",
    "        if is_prime:\n",
    "            print('是質數')\n",
    "        else:\n",
    "            print('都不是')\n",
    "\n",
    "\n",
    "num = check_int('請輸入大於等於2的整數: ')\n",
    "check_num(num)"
   ]
  },
  {
   "cell_type": "markdown",
   "metadata": {},
   "source": [
    "### Q4"
   ]
  },
  {
   "cell_type": "code",
   "execution_count": 4,
   "metadata": {},
   "outputs": [
    {
     "name": "stdout",
     "output_type": "stream",
     "text": [
      "第1次猜: 請輸入數字(0 < ? < 100): 50\n",
      "第2次猜: 請輸入數字(50 < ? < 100): 25\n",
      "輸入範圍錯誤\n",
      "第2次猜: 請輸入數字(50 < ? < 100): 75\n",
      "第3次猜: 請輸入數字(75 < ? < 100): 85\n",
      "第4次猜: 請輸入數字(75 < ? < 85): 80\n",
      "bingo~~ ans = 80\n"
     ]
    }
   ],
   "source": [
    "import random\n",
    "\n",
    "\n",
    "def check_int(hint):\n",
    "    while True:\n",
    "        try:\n",
    "            user_input = input(hint)\n",
    "            user_input = int(user_input)\n",
    "\n",
    "            if min_range < user_input < max_range:\n",
    "                return user_input\n",
    "            else:\n",
    "                print('輸入範圍錯誤')\n",
    "        except Exception as e:\n",
    "            print(e)\n",
    "\n",
    "\n",
    "min_range = 0\n",
    "max_range = 100\n",
    "guess_count = 1\n",
    "answer = random.randint(min_range, max_range)\n",
    "\n",
    "while True:\n",
    "    num = check_int('第{}次猜: 請輸入數字({} < ? < {}): '.format(guess_count, min_range, max_range))\n",
    "    guess_count += 1\n",
    "\n",
    "    if num == answer:\n",
    "        print('bingo~~ ans = {}'.format(answer))\n",
    "        break\n",
    "    elif num < answer:\n",
    "        min_range = num\n",
    "    elif num > answer:\n",
    "        max_range = num"
   ]
  },
  {
   "cell_type": "markdown",
   "metadata": {},
   "source": [
    "### Q5"
   ]
  },
  {
   "cell_type": "code",
   "execution_count": 5,
   "metadata": {
    "scrolled": true
   },
   "outputs": [
    {
     "name": "stdout",
     "output_type": "stream",
     "text": [
      "[2, 4, 7, 0, 8, 5] average = 4.33\n"
     ]
    }
   ],
   "source": [
    "import random\n",
    "\n",
    "num_set = random.sample(range(0, 10), 6)\n",
    "average = sum(num_set) / len(num_set)\n",
    "print('{} average = {:.2f}'.format(num_set, average))"
   ]
  },
  {
   "cell_type": "markdown",
   "metadata": {},
   "source": [
    "### Q6"
   ]
  },
  {
   "cell_type": "code",
   "execution_count": 6,
   "metadata": {
    "scrolled": false
   },
   "outputs": [
    {
     "name": "stdout",
     "output_type": "stream",
     "text": [
      "總和: 6 比0大\n",
      "總和: 6 比3大\n",
      "總和: 6 兩個相等\n",
      "總和: 6 比9小\n",
      "總和: 21 比14大\n"
     ]
    }
   ],
   "source": [
    "def compare_total(*num, compare=0):\n",
    "    total = sum(num)\n",
    "\n",
    "    if total == compare:\n",
    "        print('總和: {} 兩個相等'.format(total))\n",
    "    elif total > compare:\n",
    "        print('總和: {} 比{}大'.format(total, compare))\n",
    "    elif total < compare:\n",
    "        print('總和: {} 比{}小'.format(total, compare))\n",
    "\n",
    "\n",
    "compare_total(1, 2, 3)\n",
    "compare_total(1, 2, 3, compare=3)\n",
    "compare_total(1, 2, 3, compare=6)\n",
    "compare_total(1, 2, 3, compare=9)\n",
    "compare_total(1, 2, 3, 6, 4, 3, 2, compare=14)"
   ]
  },
  {
   "cell_type": "markdown",
   "metadata": {},
   "source": [
    "### Q7\n",
    "- 體重過輕 BMI < 18.5\n",
    "- 健康體位 18.5 <= BMI < 24\n",
    "- 體位異常\n",
    "    - 過重 24 <= BMI < 27\n",
    "    - 輕度肥胖 27 <= BMI < 30\n",
    "    - 中度肥胖 30 <= BMI < 35\n",
    "    - 重度肥胖 BMI >= 35"
   ]
  },
  {
   "cell_type": "code",
   "execution_count": 7,
   "metadata": {},
   "outputs": [
    {
     "name": "stdout",
     "output_type": "stream",
     "text": [
      "請輸入身高(公分): 168\n",
      "請輸入體重(公斤): 45\n",
      "體重過輕\n"
     ]
    }
   ],
   "source": [
    "def check_float(hint):\n",
    "    while True:\n",
    "        try:\n",
    "            user_input = input(hint)\n",
    "            return float(user_input)\n",
    "        except Exception as e:\n",
    "            print(e)\n",
    "\n",
    "\n",
    "def bmi(height, weight):\n",
    "    height = height / 100\n",
    "    bmi = weight / height ** 2\n",
    "\n",
    "    if bmi < 18.5:\n",
    "        print('體重過輕')\n",
    "    elif 18.5 <= bmi < 24:\n",
    "        print('健康體位')\n",
    "    elif 24 <= bmi < 27:\n",
    "        print('體位異常(過重)')\n",
    "    elif 27 <= bmi < 30:\n",
    "        print('體位異常(輕度肥胖)')\n",
    "    elif 30 <= bmi < 35:\n",
    "        print('體位異常(中度肥胖)')\n",
    "    elif bmi >= 35:\n",
    "        print('體位異常(重度肥胖)')\n",
    "\n",
    "\n",
    "height = check_float('請輸入身高(公分): ')\n",
    "weight = check_float('請輸入體重(公斤): ')\n",
    "bmi(height, weight)"
   ]
  },
  {
   "cell_type": "markdown",
   "metadata": {},
   "source": [
    "### Q9"
   ]
  },
  {
   "cell_type": "code",
   "execution_count": 8,
   "metadata": {
    "scrolled": true
   },
   "outputs": [
    {
     "name": "stdout",
     "output_type": "stream",
     "text": [
      "請輸入大於1的整數: 5\n",
      "*\n",
      "**\n",
      "***\n",
      "****\n",
      "*****\n",
      "------------------------------\n",
      "*****\n",
      "****\n",
      "***\n",
      "**\n",
      "*\n",
      "------------------------------\n",
      "*    \n",
      "**   \n",
      "***  \n",
      "**** \n",
      "*****\n",
      "**** \n",
      "***  \n",
      "**   \n",
      "*    \n",
      "------------------------------\n",
      "    *\n",
      "   **\n",
      "  ***\n",
      " ****\n",
      "*****\n",
      " ****\n",
      "  ***\n",
      "   **\n",
      "    *\n",
      "------------------------------\n",
      "*       *\n",
      "**     **\n",
      "***   ***\n",
      "**** ****\n",
      "*********\n",
      "**** ****\n",
      "***   ***\n",
      "**     **\n",
      "*       *\n"
     ]
    }
   ],
   "source": [
    "def check_int(hint):\n",
    "    while True:\n",
    "        try:\n",
    "            user_input = input(hint)\n",
    "            user_input = int(user_input)\n",
    "\n",
    "            if user_input > 1:\n",
    "                return user_input\n",
    "        except Exception as e:\n",
    "            print(e)\n",
    "\n",
    "\n",
    "def draw(num):\n",
    "    for i in range(1, num + 1):\n",
    "        print('*' * i)\n",
    "    print('-' * 30)\n",
    "\n",
    "    for i in range(num, 0, -1):\n",
    "        print('*' * i)\n",
    "    print('-' * 30)\n",
    "\n",
    "    # for i in range(num - 1, -num, -1):\n",
    "    #     print('*' * (num - abs(i)), end='')\n",
    "    #     print(' ' * abs(i))\n",
    "    # print('-' * 30)\n",
    "\n",
    "    for i in range(num - 1, -num, -1):\n",
    "        space = ' ' * abs(i)\n",
    "        star = space.rjust(num, '*')\n",
    "        print(star)\n",
    "    print('-' * 30)\n",
    "\n",
    "    # for i in range(num - 1, -num, -1):\n",
    "    #     print(' ' * abs(i), end='')\n",
    "    #     print('*' * (num - abs(i)))\n",
    "    # print('-' * 30)\n",
    "\n",
    "    for i in range(num - 1, -num, -1):\n",
    "        space = ' ' * abs(i)\n",
    "        star = space.ljust(num, '*')\n",
    "        print(star)\n",
    "    print('-' * 30)\n",
    "\n",
    "    # for i in range(num - 1, -num, -1):\n",
    "    #     print('*' * (num - abs(i)), end='')\n",
    "    #     print(' ' * abs(i * 2), end='')\n",
    "    #     print('*' * (num - abs(i)))\n",
    "    # print('-' * 30)\n",
    "\n",
    "    for i in range(num - 1, -num, -1):\n",
    "        space = ' ' * abs(i)\n",
    "        right = space.rjust(num, '*')\n",
    "        left = space.ljust(num, '*')\n",
    "        print(right[:-1] + left)\n",
    "\n",
    "\n",
    "num = check_int('請輸入大於1的整數: ')\n",
    "draw(num)"
   ]
  }
 ],
 "metadata": {
  "kernelspec": {
   "display_name": "Python 3",
   "language": "python",
   "name": "python3"
  },
  "language_info": {
   "codemirror_mode": {
    "name": "ipython",
    "version": 3
   },
   "file_extension": ".py",
   "mimetype": "text/x-python",
   "name": "python",
   "nbconvert_exporter": "python",
   "pygments_lexer": "ipython3",
   "version": "3.7.4"
  }
 },
 "nbformat": 4,
 "nbformat_minor": 2
}
