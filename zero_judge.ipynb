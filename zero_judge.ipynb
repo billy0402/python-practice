{
 "cells": [
  {
   "cell_type": "markdown",
   "metadata": {},
   "source": [
    "[ZERO JUDGE](https://zerojudge.tw/Problems)"
   ]
  },
  {
   "cell_type": "code",
   "execution_count": 1,
   "metadata": {
    "scrolled": true
   },
   "outputs": [
    {
     "name": "stdout",
     "output_type": "stream",
     "text": [
      "輸入指定的文字: world\n",
      "hello, world\n"
     ]
    }
   ],
   "source": [
    "q_input = input('輸入指定的文字: ')\n",
    "answer = 'hello, ' + q_input\n",
    "print(answer)"
   ]
  },
  {
   "cell_type": "code",
   "execution_count": 2,
   "metadata": {},
   "outputs": [
    {
     "name": "stdout",
     "output_type": "stream",
     "text": [
      "輸入指定的文字: EnWei\n",
      "EnWei | Hi!\n"
     ]
    }
   ],
   "source": [
    "q_input = input('輸入指定的文字: ')\n",
    "answer = q_input + ' | Hi!'\n",
    "print(answer)"
   ]
  },
  {
   "cell_type": "code",
   "execution_count": 3,
   "metadata": {},
   "outputs": [
    {
     "name": "stdout",
     "output_type": "stream",
     "text": [
      "輸入兩個數字: 1 2\n",
      "3\n"
     ]
    }
   ],
   "source": [
    "q_input = input('輸入兩個數字: ')\n",
    "input_list = q_input.split(' ')\n",
    "input_list = [int(i) for i in input_list]\n",
    "print(input_list[0] + input_list[1])"
   ]
  },
  {
   "cell_type": "code",
   "execution_count": 4,
   "metadata": {},
   "outputs": [
    {
     "name": "stdout",
     "output_type": "stream",
     "text": [
      "輸入三個數字: 1 2 3\n",
      "相加 6\n",
      "相減 -4\n",
      "相乘 6\n",
      "相除 0.16666666666666666\n"
     ]
    }
   ],
   "source": [
    "q_input = input('輸入三個數字: ')\n",
    "input_list = q_input.split(' ')\n",
    "input_list = [int(i) for i in input_list]\n",
    "print('相加', input_list[0] + input_list[1] + input_list[2])\n",
    "print('相減', input_list[0] - input_list[1] - input_list[2])\n",
    "print('相乘', input_list[0] * input_list[1] * input_list[2])\n",
    "print('相除', input_list[0] / input_list[1] / input_list[2])"
   ]
  },
  {
   "cell_type": "code",
   "execution_count": 5,
   "metadata": {},
   "outputs": [
    {
     "name": "stdout",
     "output_type": "stream",
     "text": [
      "輸入月份及日期: 4 2\n",
      "吉\n"
     ]
    }
   ],
   "source": [
    "q_input = input('輸入月份及日期: ')\n",
    "input_list = q_input.split(' ')\n",
    "month = int(input_list[0])\n",
    "date = int(input_list[1])\n",
    "fortune = (month * 2 + date) % 3\n",
    "\n",
    "if fortune == 0:\n",
    "    print('普通')\n",
    "elif fortune == 1:\n",
    "    print('吉')\n",
    "elif fortune == 2:\n",
    "    print('大吉')"
   ]
  },
  {
   "cell_type": "markdown",
   "metadata": {},
   "source": [
    " ### 西元年被4整除且不被100整除，或被400整除者即為閏年"
   ]
  },
  {
   "cell_type": "code",
   "execution_count": 6,
   "metadata": {},
   "outputs": [
    {
     "name": "stdout",
     "output_type": "stream",
     "text": [
      "輸入年份: 2000\n",
      "True\n",
      "閏年\n"
     ]
    }
   ],
   "source": [
    "import calendar\n",
    "q_input = input('輸入年份: ')\n",
    "year = int(q_input)\n",
    "\n",
    "print(calendar.isleap(year))\n",
    "if (year%4 == 0 and year%100 != 0) or year%400 == 0:\n",
    "    print('閏年')\n",
    "else:\n",
    "    print('平年')"
   ]
  },
  {
   "cell_type": "code",
   "execution_count": 7,
   "metadata": {},
   "outputs": [
    {
     "name": "stdout",
     "output_type": "stream",
     "text": [
      "1 2 3 4 5\n",
      "1 2 4 8 16\n"
     ]
    }
   ],
   "source": [
    "q_input = '''\n",
    "2\n",
    "1 2 3 4\n",
    "1 2 4 8\n",
    "'''\n",
    "\n",
    "input_list = q_input.split('\\n')[2:-1]\n",
    "\n",
    "for item in input_list:\n",
    "    num_list = item.split(' ')\n",
    "    num_list = [int(i) for i in num_list]\n",
    "    \n",
    "    if num_list[-1] - num_list[-2] == num_list[-2] - num_list[-3]:\n",
    "        num_list.append(num_list[-1] + (num_list[-1] - num_list[-2]))\n",
    "        print(' '.join(str(i) for i in num_list))\n",
    "    \n",
    "    if num_list[-1] / num_list[-2] == num_list[-2] / num_list[-3]:\n",
    "        num_list.append(num_list[-1] * (num_list[-1] // num_list[-2]))\n",
    "        print(' '.join(str(i) for i in num_list))"
   ]
  },
  {
   "cell_type": "code",
   "execution_count": 8,
   "metadata": {},
   "outputs": [
    {
     "name": "stdout",
     "output_type": "stream",
     "text": [
      "輸入一串數字: 12345\n",
      "54321\n",
      "54321\n"
     ]
    }
   ],
   "source": [
    "q_input = input('輸入一串數字: ')\n",
    "print(q_input[::-1])\n",
    "print(''.join(reversed(q_input)))"
   ]
  },
  {
   "cell_type": "code",
   "execution_count": 9,
   "metadata": {},
   "outputs": [
    {
     "name": "stdout",
     "output_type": "stream",
     "text": [
      "輸入一串文字: aabbaa\n",
      "yes\n"
     ]
    }
   ],
   "source": [
    "q_input = input('輸入一串文字: ')\n",
    "reserve_input = q_input[::-1]\n",
    "\n",
    "if q_input == reserve_input:\n",
    "    print('yes')\n",
    "else:\n",
    "    print('no')"
   ]
  },
  {
   "cell_type": "code",
   "execution_count": 10,
   "metadata": {},
   "outputs": [
    {
     "name": "stdout",
     "output_type": "stream",
     "text": [
      "[[2, 3], [3, 1, 2], [8, 5, 4]]\n",
      "[[3, 8], [1, 5], [2, 4]]\n"
     ]
    }
   ],
   "source": [
    "q_input = '''\n",
    "2 3\n",
    "3 1 2\n",
    "8 5 4\n",
    "'''\n",
    "# 3 8\n",
    "# 1 5\n",
    "# 2 4\n",
    "\n",
    "input_list = q_input.split('\\n')[1:-1]\n",
    "\n",
    "origin_array = list()\n",
    "for item in input_list:\n",
    "    num_list = item.split()\n",
    "    num_list = list(map(lambda x: int(x), num_list))\n",
    "    origin_array.append(num_list)\n",
    "print(origin_array)\n",
    "\n",
    "result_array = list()\n",
    "for i in range(origin_array[0][1]):\n",
    "    result_array.append(list())\n",
    "    for j in range(origin_array[0][0]):\n",
    "        result_array[i].append(origin_array[j + 1][i])\n",
    "print(result_array)"
   ]
  },
  {
   "cell_type": "code",
   "execution_count": 11,
   "metadata": {},
   "outputs": [
    {
     "name": "stdout",
     "output_type": "stream",
     "text": [
      "[[3, 8], [1, 5], [2, 4]]\n"
     ]
    }
   ],
   "source": [
    "num_list = [[3, 1, 2], [8, 5, 4]]\n",
    "\n",
    "print([list(row) for row in zip(*num_list)])"
   ]
  }
 ],
 "metadata": {
  "kernelspec": {
   "display_name": "Python 3",
   "language": "python",
   "name": "python3"
  },
  "language_info": {
   "codemirror_mode": {
    "name": "ipython",
    "version": 3
   },
   "file_extension": ".py",
   "mimetype": "text/x-python",
   "name": "python",
   "nbconvert_exporter": "python",
   "pygments_lexer": "ipython3",
   "version": "3.7.4"
  }
 },
 "nbformat": 4,
 "nbformat_minor": 2
}
