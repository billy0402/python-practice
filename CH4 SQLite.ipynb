{
 "cells": [
  {
   "cell_type": "code",
   "execution_count": 1,
   "metadata": {},
   "outputs": [
    {
     "name": "stdout",
     "output_type": "stream",
     "text": [
      "number of recored: 3\n",
      "(1, 'aaa')\n",
      "(2, 'bbb')\n",
      "(3, 'ddd')\n"
     ]
    }
   ],
   "source": [
    "# ! touch db.sqlite3\n",
    "\n",
    "import sqlite3\n",
    "\n",
    "# 開啟資料庫連接\n",
    "connect = sqlite3.connect('db.sqlite3')\n",
    "\n",
    "# 取得游標物件\n",
    "cursor = connect.cursor()\n",
    "\n",
    "cursor.execute('CREATE TABLE demo(num int, str varchar(20));')\n",
    "\n",
    "cursor.execute('INSERT INTO demo VALUES (?, ?);', (1, 'aaa'))\n",
    "cursor.execute('INSERT INTO demo VALUES (?, ?);', (2, 'bbb'))\n",
    "cursor.execute('INSERT INTO demo VALUES (?, ?);', (3, 'ccc'))\n",
    "\n",
    "cursor.execute('UPDATE demo SET str=? WHERE num=?;', ('ddd', 3))\n",
    "\n",
    "cursor.execute('SELECT * FROM demo')\n",
    "rows = cursor.fetchall()\n",
    "print('number of recored: {}'.format(len(rows)))\n",
    "for item in rows:\n",
    "    print(item)\n",
    "\n",
    "# 傳送交易\n",
    "connect.commit()\n",
    "\n",
    "# 關閉游標物件\n",
    "cursor.close()\n",
    "\n",
    "# 關閉資料庫連接\n",
    "connect.close()"
   ]
  }
 ],
 "metadata": {
  "kernelspec": {
   "display_name": "Python 3",
   "language": "python",
   "name": "python3"
  },
  "language_info": {
   "codemirror_mode": {
    "name": "ipython",
    "version": 3
   },
   "file_extension": ".py",
   "mimetype": "text/x-python",
   "name": "python",
   "nbconvert_exporter": "python",
   "pygments_lexer": "ipython3",
   "version": "3.7.4"
  }
 },
 "nbformat": 4,
 "nbformat_minor": 2
}
